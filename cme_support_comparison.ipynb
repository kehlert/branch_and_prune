{
 "cells": [
  {
   "cell_type": "code",
   "execution_count": 34,
   "metadata": {},
   "outputs": [],
   "source": [
    "%matplotlib inline\n",
    "%reload_ext autoreload\n",
    "%autoreload 2\n",
    "# %load_ext line_profiler\n",
    "\n",
    "import numpy as np\n",
    "import matplotlib.pyplot as plt\n",
    "import pandas as pd"
   ]
  },
  {
   "cell_type": "markdown",
   "metadata": {},
   "source": [
    "# Setup the models that we will test"
   ]
  },
  {
   "cell_type": "code",
   "execution_count": 69,
   "metadata": {
    "scrolled": true
   },
   "outputs": [],
   "source": [
    "from lotka_volterra_model import LotkaVolterraModel\n",
    "from dimerization_model import DimerizationModel\n",
    "from gene_toggle_model import GeneToggleModel\n",
    "from fast_slow_model import FastSlowModel\n",
    "from goutsias_model import GoutsiasModel\n",
    "\n",
    "from model_data import ModelData\n",
    "        \n",
    "all_model_data = []\n",
    "initial_distributions = []\n",
    "max_r_for_all_models = []\n",
    "r_steps = []\n",
    "\n",
    "# ########################\n",
    "# # Lokta-Volterra model\n",
    "# ########################\n",
    "all_model_data.append(ModelData(LotkaVolterraModel(),\n",
    "                                ['A', 'B'],\n",
    "                                0.2,\n",
    "                                'Lotka-Volterra'))\n",
    "initial_distributions.append({(300, 100): 1.})\n",
    "max_r_for_all_models.append(250)\n",
    "r_steps.append(10)\n",
    "\n",
    "# ########################\n",
    "# # Dimerization model\n",
    "# ########################\n",
    "all_model_data.append(ModelData(DimerizationModel(),\n",
    "                                ['mRNA', 'protein', 'dimer'],\n",
    "                                0.05,\n",
    "                                'Dimerization'))\n",
    "initial_distributions.append({(10, 10, 0): 1.})\n",
    "max_r_for_all_models.append(150)\n",
    "r_steps.append(10)\n",
    "\n",
    "########################\n",
    "# Fast/slow model\n",
    "########################\n",
    "all_model_data.append(ModelData(FastSlowModel(),\n",
    "                                ['A', 'B', 'C'],\n",
    "                                4.,\n",
    "                                'Fast/Slow'))\n",
    "initial_distributions.append({(100, 100, 0): 1.})\n",
    "max_r_for_all_models.append(150)\n",
    "r_steps.append(10)\n",
    "\n",
    "# #######################\n",
    "# Goutsias model\n",
    "# #######################\n",
    "all_model_data.append(ModelData(GoutsiasModel(),\n",
    "                                ['M', 'DNA', 'RNA', 'D', 'DNA.D', 'DNA.2D'],\n",
    "                                0.2,\n",
    "                                'Goutsias'))\n",
    "initial_distributions.append({(20, 20, 20, 20, 20, 20): 1.})\n",
    "max_r_for_all_models.append(20)\n",
    "r_steps.append(1)"
   ]
  },
  {
   "cell_type": "code",
   "execution_count": 70,
   "metadata": {
    "scrolled": false
   },
   "outputs": [],
   "source": [
    "# from run_sim import run_sim\n",
    "# state_path, _ = run_sim(all_model_data[0].model, np.array([10, 10, 10, 10, 10, 10]), 1.)\n",
    "# print(state_path[-1,1:])"
   ]
  },
  {
   "cell_type": "markdown",
   "metadata": {},
   "source": [
    "# Generate the plots comparing the support sizes to the probability lost"
   ]
  },
  {
   "cell_type": "code",
   "execution_count": 71,
   "metadata": {
    "scrolled": false
   },
   "outputs": [
    {
     "name": "stdout",
     "output_type": "stream",
     "text": [
      "Goutsias\n",
      "1\n",
      "support size: 11, prob lost: 0.9847241260485442\n",
      "2\n",
      "support size: 61, prob lost: 0.8508333190547304\n",
      "3\n",
      "support size: 231, prob lost: 0.5912756391330419\n",
      "4\n",
      "support size: 681, prob lost: 0.3341993724181048\n",
      "5\n",
      "support size: 1683, prob lost: 0.15786541235530882\n",
      "6\n",
      "support size: 3653, prob lost: 0.06370126230022939\n",
      "7\n",
      "support size: 7183, prob lost: 0.022320290373198482\n",
      "8\n",
      "support size: 13073, prob lost: 0.006874621268171719\n",
      "9\n",
      "support size: 22363, prob lost: 0.0018786258284688739\n",
      "10\n",
      "support size: 36365, prob lost: 0.0004589198237469326\n",
      "11\n",
      "support size: 56693, prob lost: 0.00010087347922015182\n",
      "12\n",
      "support size: 85286, prob lost: 2.0072559830451907e-05\n",
      "13\n",
      "support size: 124423, prob lost: 3.637336470140213e-06\n",
      "14\n",
      "support size: 176735, prob lost: 6.037722151493655e-07\n",
      "15\n",
      "support size: 245216, prob lost: 9.234747541153963e-08\n",
      "16\n",
      "support size: 333233, prob lost: 1.3091110975312421e-08\n",
      "17\n",
      "support size: 444537, prob lost: 1.7298497339431814e-09\n",
      "18\n",
      "support size: 583274, prob lost: 2.142312387470975e-10\n",
      "19\n",
      "support size: 753995, prob lost: 2.4989971585577782e-11\n",
      "error target: 2.50e-11\n",
      "eps: 2.50e-01, prob lost: 1.00e+00, support size: 1\n",
      "eps: 6.25e-02, prob lost: 9.99e-01, support size: 2\n",
      "eps: 1.56e-02, prob lost: 8.93e-01, support size: 11\n",
      "eps: 3.91e-03, prob lost: 5.94e-01, support size: 30\n",
      "eps: 9.77e-04, prob lost: 3.14e-01, support size: 92\n",
      "eps: 2.44e-04, prob lost: 1.47e-01, support size: 205\n",
      "eps: 6.10e-05, prob lost: 5.83e-02, support size: 459\n",
      "eps: 1.53e-05, prob lost: 2.38e-02, support size: 886\n",
      "eps: 3.81e-06, prob lost: 7.22e-03, support size: 1560\n",
      "eps: 9.54e-07, prob lost: 2.24e-03, support size: 2543\n",
      "eps: 2.38e-07, prob lost: 7.04e-04, support size: 3948\n",
      "eps: 5.96e-08, prob lost: 1.97e-04, support size: 5828\n",
      "eps: 1.49e-08, prob lost: 5.08e-05, support size: 8214\n",
      "eps: 3.73e-09, prob lost: 1.49e-05, support size: 11185\n",
      "eps: 9.31e-10, prob lost: 4.13e-06, support size: 14942\n",
      "eps: 2.33e-10, prob lost: 1.06e-06, support size: 19428\n",
      "eps: 5.82e-11, prob lost: 2.86e-07, support size: 24788\n",
      "eps: 1.46e-11, prob lost: 7.68e-08, support size: 31147\n",
      "eps: 3.64e-12, prob lost: 2.06e-08, support size: 38585\n",
      "eps: 9.09e-13, prob lost: 5.26e-09, support size: 47219\n",
      "eps: 2.27e-13, prob lost: 1.42e-09, support size: 57040\n",
      "eps: 5.68e-14, prob lost: 3.93e-10, support size: 68372\n",
      "eps: 1.42e-14, prob lost: 1.01e-10, support size: 81250\n",
      "eps: 3.55e-15, prob lost: 2.86e-11, support size: 95766\n",
      "eps: 8.88e-16, prob lost: 7.59e-12, support size: 112065\n"
     ]
    },
    {
     "data": {
      "image/png": "[encoded data removed]",
      "text/plain": [
       "<Figure size 576x432 with 1 Axes>"
      ]
     },
     "metadata": {
      "needs_background": "light"
     },
     "output_type": "display_data"
    }
   ],
   "source": [
    "import r_step_reachability\n",
    "import branch_and_prune\n",
    "import gorde\n",
    "\n",
    "from get_generator import get_generator\n",
    "from scipy.sparse.linalg import expm_multiply\n",
    "\n",
    "for model_data, init_dist, max_r, r_step in zip(all_model_data, initial_distributions, max_r_for_all_models, r_steps):\n",
    "    print(model_data.model_name)\n",
    "    r_values = range(1, max_r, r_step)\n",
    "    r_step_support_size = np.zeros(len(r_values), dtype=np.int)\n",
    "    r_step_prob_lost = np.zeros(len(r_values), dtype=np.float)\n",
    "    \n",
    "    for i,r in enumerate(r_values):\n",
    "        print(r)\n",
    "        support = r_step_reachability.get_support(model_data, init_dist, r)\n",
    "        generator, initial_dist, index_to_state = get_generator(model_data, init_dist, support)\n",
    "        res_dist = expm_multiply(generator * model_data.t, initial_dist)\n",
    "        \n",
    "        r_step_support_size[i] = len(support)\n",
    "        r_step_prob_lost[i] = res_dist[0]\n",
    "        print('support size: {}, prob lost: {}'.format(len(support), res_dist[0]))\n",
    "    \n",
    "    branch_prune_support_size = []\n",
    "    branch_prune_prob_lost = []\n",
    "    \n",
    "    eps = 1.\n",
    "    prob_lost = np.inf\n",
    "    print('error target: {:.2e}'.format(r_step_prob_lost[-1]))\n",
    "    while prob_lost > r_step_prob_lost[-1]:\n",
    "        support, generator, initial_dist = branch_and_prune.get_support(model_data, init_dist, eps)\n",
    "        res_dist = expm_multiply(generator.T * model_data.t, initial_dist)\n",
    "        branch_prune_support_size.append(len(support))\n",
    "        branch_prune_prob_lost.append(res_dist[0])\n",
    "        \n",
    "        eps /= 4.\n",
    "        prob_lost = res_dist[0]\n",
    "        print('eps: {:.2e}, prob lost: {:.2e}, support size: {}'.format(eps, prob_lost, len(support)))\n",
    "        \n",
    "    plt.plot(r_step_support_size, r_step_prob_lost, color='blue', label='r-step reachability')\n",
    "    plt.plot(branch_prune_support_size, branch_prune_prob_lost, color='red', label='branch and prune')\n",
    "    plt.legend()\n",
    "    plt.yscale('log') #base 10\n",
    "    plt.ylabel('L1 error')\n",
    "    plt.xlabel('Domain size')\n",
    "    plt.title(model_data.model_name)\n",
    "    \n",
    "    plt.gcf().set_size_inches(8, 6)\n",
    "    plt.savefig('{}_domain_scaling.eps'.format(model_data.model_name.replace('/', '')),\n",
    "            format='eps',\n",
    "            bbox_inches='tight')\n",
    "    \n",
    "    plt.show()"
   ]
  },
  {
   "cell_type": "code",
   "execution_count": null,
   "metadata": {},
   "outputs": [],
   "source": []
  },
  {
   "cell_type": "code",
   "execution_count": null,
   "metadata": {},
   "outputs": [],
   "source": []
  }
 ],
 "metadata": {
  "kernelspec": {
   "display_name": "Python 3",
   "language": "python",
   "name": "python3"
  },
  "language_info": {
   "codemirror_mode": {
    "name": "ipython",
    "version": 3
   },
   "file_extension": ".py",
   "mimetype": "text/x-python",
   "name": "python",
   "nbconvert_exporter": "python",
   "pygments_lexer": "ipython3",
   "version": "3.7.3"
  }
 },
 "nbformat": 4,
 "nbformat_minor": 2
}
