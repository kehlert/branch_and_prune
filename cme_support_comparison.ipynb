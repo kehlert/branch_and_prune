{
 "cells": [
  {
   "cell_type": "code",
   "execution_count": 1,
   "metadata": {},
   "outputs": [],
   "source": [
    "%matplotlib inline\n",
    "%reload_ext autoreload\n",
    "%autoreload 2\n",
    "# %load_ext line_profiler\n",
    "\n",
    "import numpy as np\n",
    "import matplotlib.pyplot as plt\n",
    "import pandas as pd"
   ]
  },
  {
   "cell_type": "markdown",
   "metadata": {},
   "source": [
    "# Setup the models that we will test"
   ]
  },
  {
   "cell_type": "code",
   "execution_count": 31,
   "metadata": {
    "scrolled": true
   },
   "outputs": [],
   "source": [
    "from lotka_volterra_model import LotkaVolterraModel\n",
    "from dimerization_model import DimerizationModel\n",
    "from gene_toggle_model import GeneToggleModel\n",
    "from fast_slow_model import FastSlowModel\n",
    "from goutsias_model import GoutsiasModel\n",
    "\n",
    "from model_data import ModelData\n",
    "        \n",
    "all_model_data = []\n",
    "initial_distributions = []\n",
    "max_r_for_all_models = []\n",
    "r_step = []\n",
    "\n",
    "# ########################\n",
    "# # Lokta-Volterra model\n",
    "# ########################\n",
    "# all_model_data.append(ModelData(LotkaVolterraModel(),\n",
    "#                                 ['A', 'B'],\n",
    "#                                 0.2,\n",
    "#                                 'Lotka-Volterra'))\n",
    "# initial_distributions.append({(300, 100): 1.})\n",
    "# max_r_for_all_models.append(250)\n",
    "# r_step.append(10)\n",
    "\n",
    "# ########################\n",
    "# # Dimerization model\n",
    "# ########################\n",
    "all_model_data.append(ModelData(DimerizationModel(),\n",
    "                                ['mRNA', 'protein', 'dimer'],\n",
    "                                0.05,\n",
    "                                'Dimerization'))\n",
    "initial_distributions.append({(10, 10, 0): 1.})\n",
    "max_r_for_all_models.append(150)\n",
    "r_step.append(10)\n",
    "\n",
    "########################\n",
    "# Fast/slow model\n",
    "########################\n",
    "all_model_data.append(ModelData(FastSlowModel(),\n",
    "                                ['A', 'B', 'C'],\n",
    "                                4.,\n",
    "                                'Fast-Slow'))\n",
    "initial_distributions.append({(100, 100, 0): 1.})\n",
    "max_r_for_all_models.append(150)\n",
    "r_step.append(10)\n",
    "\n",
    "# #######################\n",
    "# Goutsias model\n",
    "# #######################\n",
    "all_model_data.append(ModelData(GoutsiasModel(),\n",
    "                                ['M', 'DNA', 'RNA', 'D', 'DNA.D', 'DNA.2D'],\n",
    "                                1.,\n",
    "                                'Goutsias'))\n",
    "initial_distributions.append({(5, 5, 5, 5, 5, 5): 1.})\n",
    "max_r_for_all_models.append(25)\n",
    "r_step.append(2)"
   ]
  },
  {
   "cell_type": "code",
   "execution_count": 32,
   "metadata": {
    "scrolled": false
   },
   "outputs": [],
   "source": [
    "# from run_sim import run_sim\n",
    "# state_path, _ = run_sim(all_model_data[0].model, np.array([10, 10, 10, 10, 10, 10]), 1.)\n",
    "# print(state_path[-1,1:])"
   ]
  },
  {
   "cell_type": "markdown",
   "metadata": {},
   "source": [
    "# Generate the plots comparing the support sizes to the probability lost"
   ]
  },
  {
   "cell_type": "code",
   "execution_count": null,
   "metadata": {
    "scrolled": false
   },
   "outputs": [
    {
     "name": "stdout",
     "output_type": "stream",
     "text": [
      "Dimerization\n",
      "1\n",
      "support size: 6, prob lost: 0.9999999999999994\n",
      "11\n",
      "support size: 935, prob lost: 0.9999999999106802\n",
      "21\n",
      "support size: 3247, prob lost: 0.9999959775462772\n",
      "31\n",
      "support size: 6894, prob lost: 0.997621466648123\n",
      "41\n",
      "support size: 12341, prob lost: 0.9152818423696771\n",
      "51\n",
      "support size: 19922, prob lost: 0.5333047751107497\n",
      "61\n",
      "support size: 29969, prob lost: 0.14308460712157856\n",
      "71\n",
      "support size: 42816, prob lost: 0.0180822455585805\n",
      "81\n",
      "support size: 58797, prob lost: 0.0012496704993059991\n",
      "91\n"
     ]
    }
   ],
   "source": [
    "import r_step_reachability\n",
    "import branch_and_prune\n",
    "import gorde\n",
    "\n",
    "from get_generator import get_generator\n",
    "from scipy.sparse.linalg import expm_multiply\n",
    "\n",
    "for model_data, init_dist, max_r, r_step in zip(all_model_data, initial_distributions, max_r_for_all_models, r_step):\n",
    "    print(model_data.model_name)\n",
    "    r_values = range(1, max_r, r_step)\n",
    "    r_step_support_size = np.zeros(len(r_values), dtype=np.int)\n",
    "    r_step_prob_lost = np.zeros(len(r_values), dtype=np.float)\n",
    "    \n",
    "    for i,r in enumerate(r_values):\n",
    "        print(r)\n",
    "        support = r_step_reachability.get_support(model_data, init_dist, r)\n",
    "        generator, initial_dist, index_to_state = get_generator(model_data, init_dist, support)\n",
    "        res_dist = expm_multiply(generator * model_data.t, initial_dist)\n",
    "        \n",
    "        r_step_support_size[i] = len(support)\n",
    "        r_step_prob_lost[i] = res_dist[0]\n",
    "        print('support size: {}, prob lost: {}'.format(len(support), res_dist[0]))\n",
    "    \n",
    "    branch_prune_support_size = []\n",
    "    branch_prune_prob_lost = []\n",
    "    \n",
    "    eps = 1.\n",
    "    prob_lost = np.inf\n",
    "    print('error target: {:.2e}'.format(r_step_prob_lost[-1]))\n",
    "    while prob_lost > r_step_prob_lost[-1]:\n",
    "        support, generator, initial_dist = branch_and_prune.get_support(model_data, init_dist, eps)\n",
    "        res_dist = expm_multiply(generator.T * model_data.t, initial_dist)\n",
    "        branch_prune_support_size.append(len(support))\n",
    "        branch_prune_prob_lost.append(res_dist[0])\n",
    "        \n",
    "        eps /= 4.\n",
    "        prob_lost = res_dist[0]\n",
    "        print('eps: {:.2e}, prob lost: {:.2e}'.format(eps, prob_lost))\n",
    "        \n",
    "    plt.plot(r_step_support_size, r_step_prob_lost, color='blue', label='r-step reachability')\n",
    "    plt.plot(branch_prune_support_size, branch_prune_prob_lost, color='red', label='branch and prune')\n",
    "    plt.legend()\n",
    "    plt.yscale('log') #base 10\n",
    "    plt.ylabel('L1 error')\n",
    "    plt.xlabel('Support size')\n",
    "    plt.title(model_data.model_name)\n",
    "    \n",
    "    plt.gcf().set_size_inches(8, 6)\n",
    "    plt.savefig('{}_domain_scaling.eps'.format(model_data.model_name),\n",
    "            format='eps',\n",
    "            bbox_inches='tight')\n",
    "    \n",
    "    plt.show()"
   ]
  },
  {
   "cell_type": "code",
   "execution_count": null,
   "metadata": {},
   "outputs": [],
   "source": []
  }
 ],
 "metadata": {
  "kernelspec": {
   "display_name": "Python 3",
   "language": "python",
   "name": "python3"
  },
  "language_info": {
   "codemirror_mode": {
    "name": "ipython",
    "version": 3
   },
   "file_extension": ".py",
   "mimetype": "text/x-python",
   "name": "python",
   "nbconvert_exporter": "python",
   "pygments_lexer": "ipython3",
   "version": "3.7.3"
  }
 },
 "nbformat": 4,
 "nbformat_minor": 2
}
